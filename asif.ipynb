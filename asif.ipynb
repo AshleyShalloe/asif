{
 "cells": [
  {
   "cell_type": "code",
   "execution_count": null,
   "metadata": {},
   "outputs": [],
   "source": [
    "## asif - a syndicated information feed"
   ]
  },
  {
   "cell_type": "code",
   "execution_count": null,
   "metadata": {},
   "outputs": [],
   "source": [
    "import feedparser\n",
    "import pandas as pd\n",
    "import requests\n",
    "import base64"
   ]
  },
  {
   "cell_type": "code",
   "execution_count": null,
   "metadata": {},
   "outputs": [],
   "source": [
    "guardian_url = \"https://www.theguardian.com/uk/rss\""
   ]
  },
  {
   "cell_type": "code",
   "execution_count": null,
   "metadata": {},
   "outputs": [],
   "source": [
    "def get_database_fields(feed_url):\n",
    "    \"\"\"\n",
    "    Takes in a feed URL, returns a dataframe with\n",
    "    the fields defined below\n",
    "    \"\"\"\n",
    "    parsed_feed = feedparser.parse(feed_url)\n",
    "\n",
    "    return_list = []\n",
    "\n",
    "    for i in range(0, len(parsed_feed[\"entries\"])):\n",
    "        title     = parsed_feed[\"entries\"][i].get(\"title\", parsed_feed.get(\"feed\", {}).get(\"title\", \"no title\"))\n",
    "        url       = parsed_feed[\"entries\"][i].get(\"links\", {\"href\": feed_url})[0][\"href\"]\n",
    "        summary   = parsed_feed[\"entries\"][i].get(\"summary\", \"no summary\")\n",
    "        media_url = parsed_feed[\"entries\"][i].get(\"media_content\", [{}])[0].get(\"url\")\n",
    "        author    = parsed_feed[\"entries\"][i].get(\"author\", parsed_feed.get(\"feed\", {}).get(\"title\", \"no author\"))\n",
    "        updated   = parsed_feed[\"entries\"][i].get(\"updated\", None)\n",
    "        category  = parsed_feed[\"entries\"][i].get(\"tags\", [])[0].get(\"term\", [])\n",
    "        return_list.append([title, url, summary, media_url, author, updated, category])\n",
    "\n",
    "    return_df = pd.DataFrame(return_list).rename({\n",
    "                                                    0: \"title\",\n",
    "                                                    1: \"story_url\",\n",
    "                                                    2: \"summary\",\n",
    "                                                    3: \"media_url\",\n",
    "                                                    4: \"author\",\n",
    "                                                    5: \"updated\",\n",
    "                                                    6: \"category\"\n",
    "                                                }, axis=1)\n",
    "    \n",
    "    return_df[\"updated\"] = pd.to_datetime(return_df[\"updated\"], utc=True)\n",
    "\n",
    "    return return_df"
   ]
  },
  {
   "cell_type": "code",
   "execution_count": null,
   "metadata": {},
   "outputs": [],
   "source": [
    "meta_df = get_database_fields(guardian_url)\n",
    "meta_df"
   ]
  },
  {
   "cell_type": "code",
   "execution_count": null,
   "metadata": {},
   "outputs": [],
   "source": [
    "with open(\"asif.json\", \"w\") as outfile:\n",
    "    outfile.write(meta_df.to_json(orient=\"records\"))"
   ]
  }
 ],
 "metadata": {
  "kernelspec": {
   "display_name": "Python 3",
   "language": "python",
   "name": "python3"
  },
  "language_info": {
   "codemirror_mode": {
    "name": "ipython",
    "version": 3
   },
   "file_extension": ".py",
   "mimetype": "text/x-python",
   "name": "python",
   "nbconvert_exporter": "python",
   "pygments_lexer": "ipython3",
   "version": "3.11.4"
  }
 },
 "nbformat": 4,
 "nbformat_minor": 2
}
